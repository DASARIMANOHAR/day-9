{
 "cells": [
  {
   "cell_type": "markdown",
   "id": "e73bf77f",
   "metadata": {},
   "source": [
    "## lists\n"
   ]
  },
  {
   "cell_type": "markdown",
   "id": "f8e5272c",
   "metadata": {},
   "source": [
    "- IT IS USED TO STORE NON HOMOGENOUS DATA GROUP \n",
    "- IT IS MUTABLE\n",
    "- IT IS ORDERD\n",
    "- it is iterable"
   ]
  },
  {
   "cell_type": "code",
   "execution_count": 4,
   "id": "38cdf809",
   "metadata": {},
   "outputs": [],
   "source": [
    "li=[1,2,3,4,4,5]\n"
   ]
  },
  {
   "cell_type": "code",
   "execution_count": 7,
   "id": "e8f969c8",
   "metadata": {},
   "outputs": [
    {
     "name": "stdout",
     "output_type": "stream",
     "text": [
      "[1, 2, 3, 4, 4, 5]\n"
     ]
    }
   ],
   "source": [
    "print(li)"
   ]
  },
  {
   "cell_type": "code",
   "execution_count": 8,
   "id": "c673d04b",
   "metadata": {},
   "outputs": [
    {
     "name": "stdout",
     "output_type": "stream",
     "text": [
      "<class 'list'>\n"
     ]
    }
   ],
   "source": [
    "print(type(li)"
   ]
  },
  {
   "cell_type": "code",
   "execution_count": 19,
   "id": "2ef95acb",
   "metadata": {},
   "outputs": [
    {
     "name": "stdout",
     "output_type": "stream",
     "text": [
      "[1, 2, 3, 4, 4, 5]\n"
     ]
    }
   ],
   "source": [
    "list=li\n",
    "print(list)"
   ]
  },
  {
   "cell_type": "markdown",
   "id": "ae281b1f",
   "metadata": {},
   "source": [
    "- accesing elements of list\n",
    "- list methods\n"
   ]
  },
  {
   "cell_type": "code",
   "execution_count": 20,
   "id": "f235fb42",
   "metadata": {},
   "outputs": [],
   "source": [
    "li=[1,23,45,66,77.8]"
   ]
  },
  {
   "cell_type": "code",
   "execution_count": 21,
   "id": "11dc33ff",
   "metadata": {},
   "outputs": [
    {
     "name": "stdout",
     "output_type": "stream",
     "text": [
      "5 77.8 1 <class 'list'>\n"
     ]
    }
   ],
   "source": [
    "print(len(li),max(li),min(li),type(li))"
   ]
  },
  {
   "cell_type": "code",
   "execution_count": 22,
   "id": "a6e534f4",
   "metadata": {},
   "outputs": [
    {
     "name": "stdout",
     "output_type": "stream",
     "text": [
      "212.8\n"
     ]
    }
   ],
   "source": [
    "print(sum(li))"
   ]
  },
  {
   "cell_type": "markdown",
   "id": "ccbaade7",
   "metadata": {},
   "source": [
    "- slicing\n"
   ]
  },
  {
   "cell_type": "code",
   "execution_count": 23,
   "id": "ba93561d",
   "metadata": {},
   "outputs": [
    {
     "name": "stdout",
     "output_type": "stream",
     "text": [
      "[1, 23, 45, 66, 77.8]\n"
     ]
    }
   ],
   "source": [
    "print(li)"
   ]
  },
  {
   "cell_type": "code",
   "execution_count": 24,
   "id": "6c46d9a8",
   "metadata": {
    "scrolled": true
   },
   "outputs": [
    {
     "name": "stdout",
     "output_type": "stream",
     "text": [
      "1\n"
     ]
    }
   ],
   "source": [
    "print(li[0])"
   ]
  },
  {
   "cell_type": "code",
   "execution_count": 26,
   "id": "8cb61edf",
   "metadata": {},
   "outputs": [
    {
     "name": "stdout",
     "output_type": "stream",
     "text": [
      "77.8\n"
     ]
    }
   ],
   "source": [
    "print(li[-1])"
   ]
  },
  {
   "cell_type": "markdown",
   "id": "97ef0386",
   "metadata": {},
   "source": [
    "- syntax \n",
    "- string_var[startindex:endindex]"
   ]
  },
  {
   "cell_type": "code",
   "execution_count": 27,
   "id": "412394ec",
   "metadata": {},
   "outputs": [
    {
     "name": "stdout",
     "output_type": "stream",
     "text": [
      "[1, 23, 45, 66]\n"
     ]
    }
   ],
   "source": [
    "print(li[0:4])"
   ]
  },
  {
   "cell_type": "code",
   "execution_count": 30,
   "id": "d39a517f",
   "metadata": {},
   "outputs": [],
   "source": [
    "li=[1,2,5,4,8,85]"
   ]
  },
  {
   "cell_type": "code",
   "execution_count": 31,
   "id": "a081c275",
   "metadata": {},
   "outputs": [
    {
     "name": "stdout",
     "output_type": "stream",
     "text": [
      "[1, 2, 5, 4, 8, 85]\n"
     ]
    }
   ],
   "source": [
    "print(li)"
   ]
  },
  {
   "cell_type": "code",
   "execution_count": 33,
   "id": "bc27c76f",
   "metadata": {},
   "outputs": [
    {
     "name": "stdout",
     "output_type": "stream",
     "text": [
      "[1, 5]\n"
     ]
    }
   ],
   "source": [
    "print(li[:-2:2])"
   ]
  },
  {
   "cell_type": "code",
   "execution_count": 34,
   "id": "9abfa268",
   "metadata": {},
   "outputs": [
    {
     "name": "stdout",
     "output_type": "stream",
     "text": [
      "[8, 85]\n"
     ]
    }
   ],
   "source": [
    "print(li[-2:])"
   ]
  },
  {
   "cell_type": "code",
   "execution_count": 39,
   "id": "97d5a3d6",
   "metadata": {},
   "outputs": [],
   "source": [
    "li2=[1,2,3,4,5,6,'python']"
   ]
  },
  {
   "cell_type": "code",
   "execution_count": 44,
   "id": "b858981a",
   "metadata": {},
   "outputs": [
    {
     "data": {
      "text/plain": [
       "'PYTHON'"
      ]
     },
     "execution_count": 44,
     "metadata": {},
     "output_type": "execute_result"
    }
   ],
   "source": [
    "li2[-1].upper()"
   ]
  },
  {
   "cell_type": "code",
   "execution_count": 45,
   "id": "7a945c29",
   "metadata": {},
   "outputs": [
    {
     "data": {
      "text/plain": [
       "'python'"
      ]
     },
     "execution_count": 45,
     "metadata": {},
     "output_type": "execute_result"
    }
   ],
   "source": [
    "li2[-1].strip()"
   ]
  },
  {
   "cell_type": "code",
   "execution_count": 47,
   "id": "9e53d9ac",
   "metadata": {},
   "outputs": [
    {
     "name": "stdout",
     "output_type": "stream",
     "text": [
      "[[1, 2, 3], [4, 5, 6], [8, 9, 0]]\n"
     ]
    }
   ],
   "source": [
    "matrix=[[1,2,3],[4,5,6],[8,9,0]]\n",
    "print(matrix)"
   ]
  },
  {
   "cell_type": "code",
   "execution_count": 48,
   "id": "02a7a9ee",
   "metadata": {},
   "outputs": [
    {
     "name": "stdout",
     "output_type": "stream",
     "text": [
      "[1, 2, 3]\n"
     ]
    }
   ],
   "source": [
    "print(matrix[0])"
   ]
  },
  {
   "cell_type": "code",
   "execution_count": 49,
   "id": "730a89e4",
   "metadata": {},
   "outputs": [
    {
     "name": "stdout",
     "output_type": "stream",
     "text": [
      "3\n"
     ]
    }
   ],
   "source": [
    "print(matrix[0][2])"
   ]
  },
  {
   "cell_type": "code",
   "execution_count": 50,
   "id": "0e19a9bb",
   "metadata": {},
   "outputs": [
    {
     "name": "stdout",
     "output_type": "stream",
     "text": [
      "[4, 5, 6]\n"
     ]
    }
   ],
   "source": [
    "print(matrix[1])\n"
   ]
  },
  {
   "cell_type": "code",
   "execution_count": 53,
   "id": "ad2ceb9e",
   "metadata": {},
   "outputs": [
    {
     "name": "stdout",
     "output_type": "stream",
     "text": [
      "[5, 6]\n"
     ]
    }
   ],
   "source": [
    "print(matrix[1][1:])"
   ]
  },
  {
   "cell_type": "code",
   "execution_count": 55,
   "id": "d48ad241",
   "metadata": {},
   "outputs": [
    {
     "name": "stdout",
     "output_type": "stream",
     "text": [
      "[1, 2, 3]\n",
      "[4, 5, 6]\n",
      "[8, 9, 0]\n"
     ]
    }
   ],
   "source": [
    "for i in matrix:\n",
    "    print(i)"
   ]
  },
  {
   "cell_type": "code",
   "execution_count": 56,
   "id": "22c5bc81",
   "metadata": {},
   "outputs": [
    {
     "name": "stdout",
     "output_type": "stream",
     "text": [
      "[1, 2, 5, 4, 8, 85]\n"
     ]
    }
   ],
   "source": [
    "print(li)"
   ]
  },
  {
   "cell_type": "code",
   "execution_count": 57,
   "id": "a74cc5a2",
   "metadata": {},
   "outputs": [],
   "source": [
    "li.append(90)"
   ]
  },
  {
   "cell_type": "code",
   "execution_count": 58,
   "id": "b5748c50",
   "metadata": {},
   "outputs": [
    {
     "name": "stdout",
     "output_type": "stream",
     "text": [
      "[1, 2, 5, 4, 8, 85, 90]\n"
     ]
    }
   ],
   "source": [
    "print(li)"
   ]
  },
  {
   "cell_type": "code",
   "execution_count": null,
   "id": "4e891e39",
   "metadata": {},
   "outputs": [],
   "source": [
    "for i in range(2):\n",
    "    li.append(input('add no'))"
   ]
  },
  {
   "cell_type": "code",
   "execution_count": null,
   "id": "05389545",
   "metadata": {},
   "outputs": [],
   "source": [
    "print(li)"
   ]
  },
  {
   "cell_type": "code",
   "execution_count": null,
   "id": "1477083c",
   "metadata": {},
   "outputs": [],
   "source": [
    "print(li)"
   ]
  },
  {
   "cell_type": "code",
   "execution_count": null,
   "id": "e45c2214",
   "metadata": {},
   "outputs": [],
   "source": []
  },
  {
   "cell_type": "code",
   "execution_count": null,
   "id": "5f037e98",
   "metadata": {},
   "outputs": [],
   "source": []
  },
  {
   "cell_type": "code",
   "execution_count": null,
   "id": "692a244b",
   "metadata": {},
   "outputs": [],
   "source": []
  }
 ],
 "metadata": {
  "kernelspec": {
   "display_name": "Python 3",
   "language": "python",
   "name": "python3"
  },
  "language_info": {
   "codemirror_mode": {
    "name": "ipython",
    "version": 3
   },
   "file_extension": ".py",
   "mimetype": "text/x-python",
   "name": "python",
   "nbconvert_exporter": "python",
   "pygments_lexer": "ipython3",
   "version": "3.8.8"
  }
 },
 "nbformat": 4,
 "nbformat_minor": 5
}
